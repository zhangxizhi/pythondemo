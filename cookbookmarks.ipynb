{
 "cells": [
  {
   "cell_type": "markdown",
   "metadata": {},
   "source": [
    "# 第一章  数据结构和算法\n",
    "\n",
    "    讨论查询，排序，过滤等。collections\n",
    "\n",
    "1、 解压序列赋值给多个变量\n",
    "    问题：\n",
    "    现在有一个包含 N 个元素的元组或者是序列，怎样将它里面的值解压后同时赋值\n",
    "给 N 个变量？\n",
    "    解决方法：\n",
    "    变量的数量和序列元素一致，情况下可以赋值"
   ]
  },
  {
   "cell_type": "code",
   "execution_count": 10,
   "metadata": {},
   "outputs": [
    {
     "name": "stdout",
     "output_type": "stream",
     "text": [
      "4 5\n"
     ]
    }
   ],
   "source": [
    "p=(4,5)\n",
    "x,y=p\n",
    "print(x,y)"
   ]
  },
  {
   "cell_type": "code",
   "execution_count": 19,
   "metadata": {},
   "outputs": [
    {
     "name": "stdout",
     "output_type": "stream",
     "text": [
      "['abs', 20, 5.66, (1, 2, 4)]\n",
      "abs 20 5.66 (1, 2, 4)\n",
      "1\n"
     ]
    }
   ],
   "source": [
    "data=['abs',20,5.66,(1,2,4)]\n",
    "print (data)\n",
    "\n",
    "name,num,floatnum,listnum=data\n",
    "print(name,num,floatnum,listnum)\n",
    "\n",
    "name,num,floatnum,(listnum1,listnum2,listnum3)=data\n",
    "print(listnum1)"
   ]
  },
  {
   "cell_type": "code",
   "execution_count": 23,
   "metadata": {},
   "outputs": [
    {
     "name": "stdout",
     "output_type": "stream",
     "text": [
      "3\n"
     ]
    }
   ],
   "source": [
    "#不需要的可以丢\n",
    "strexample='hel3o'\n",
    "_,b,c,_,e=strexample\n",
    "print (_)"
   ]
  },
  {
   "cell_type": "code",
   "execution_count": 24,
   "metadata": {},
   "outputs": [
    {
     "ename": "ValueError",
     "evalue": "too many values to unpack (expected 2)",
     "output_type": "error",
     "traceback": [
      "\u001b[1;31m---------------------------------------------------------------------------\u001b[0m",
      "\u001b[1;31mValueError\u001b[0m                                Traceback (most recent call last)",
      "\u001b[1;32m<ipython-input-24-9d46fac314d8>\u001b[0m in \u001b[0;36m<module>\u001b[1;34m()\u001b[0m\n\u001b[0;32m      1\u001b[0m \u001b[1;31m#当数量不一致会抛出ValueError\u001b[0m\u001b[1;33m\u001b[0m\u001b[1;33m\u001b[0m\u001b[0m\n\u001b[1;32m----> 2\u001b[1;33m \u001b[0ma\u001b[0m\u001b[1;33m,\u001b[0m\u001b[0mbc\u001b[0m\u001b[1;33m=\u001b[0m\u001b[0mlistnum\u001b[0m\u001b[1;33m\u001b[0m\u001b[0m\n\u001b[0m\u001b[0;32m      3\u001b[0m \u001b[0mprint\u001b[0m\u001b[1;33m(\u001b[0m\u001b[0ma\u001b[0m\u001b[1;33m)\u001b[0m\u001b[1;33m\u001b[0m\u001b[0m\n",
      "\u001b[1;31mValueError\u001b[0m: too many values to unpack (expected 2)"
     ]
    }
   ],
   "source": [
    "#当数量不一致会抛出ValueError\n",
    "a,bc=listnum\n",
    "print(a)"
   ]
  },
  {
   "cell_type": "markdown",
   "metadata": {},
   "source": [
    "# '*'号用法"
   ]
  },
  {
   "cell_type": "code",
   "execution_count": 37,
   "metadata": {},
   "outputs": [
    {
     "name": "stdout",
     "output_type": "stream",
     "text": [
      "5.1000000000000005\n"
     ]
    }
   ],
   "source": [
    "#‘*’的用法来解决上面异常\n",
    "def avg(data):\n",
    "    value=0\n",
    "    n=len(data)\n",
    "    for i in data:\n",
    "        value+=1.0*i/n\n",
    "    return value\n",
    "\n",
    "def drop_first_last(grade):\n",
    "    first,*middle,last=grade\n",
    "    return avg(middle)\n",
    "\n",
    "grade=(1,2,3,4,5,6,7,7,8,9,0,11)\n",
    "end=drop_first_last(grade)\n",
    "#end=sum(grade)/len(grade)\n",
    "print(end)"
   ]
  },
  {
   "cell_type": "code",
   "execution_count": 39,
   "metadata": {},
   "outputs": [
    {
     "name": "stdout",
     "output_type": "stream",
     "text": [
      "foo 1 3\n",
      "bar hello\n",
      "foo 3 45\n"
     ]
    }
   ],
   "source": [
    "#‘*’在可变长元祖的序列\n",
    "recodes=[('foo',1,3),('bar','hello'),('foo',3,45),]\n",
    "def do_foo(x,y):\n",
    "    print('foo',x,y)\n",
    "def do_bar(s):\n",
    "    print('bar',s)\n",
    "for tag,*args in recodes:\n",
    "    if tag=='foo':\n",
    "        do_foo(*args)\n",
    "    if tag=='bar':\n",
    "        do_bar(*args)"
   ]
  },
  {
   "cell_type": "code",
   "execution_count": 45,
   "metadata": {},
   "outputs": [
    {
     "name": "stdout",
     "output_type": "stream",
     "text": [
      "nobody /var/empty\n",
      "['*', '-2', '-2', 'Unprivileged User']\n",
      "* -2 -2 Unprivileged User\n"
     ]
    }
   ],
   "source": [
    "#字符串分割，但是命名中不能用一个‘*’单独命名\n",
    "line='nobody:*:-2:-2:Unprivileged User:/var/empty:/usr/bin/false'\n",
    "uname,*fields,homedir,sh=line.split(':')\n",
    "print(uname,homedir)\n",
    "#看一下fields输出的差异\n",
    "print(fields)\n",
    "print(*fields)"
   ]
  },
  {
   "cell_type": "code",
   "execution_count": null,
   "metadata": {
    "collapsed": true
   },
   "outputs": [],
   "source": [
    "# 递归用法，仅仅用于演示‘*’用法\n",
    "\n",
    "def summ(items):\n",
    "    head,*tail=items\n",
    "    return head+summ(tail) if tail else head\n",
    " items = [1, 10, 7, 4, 5, 9]\n",
    "summ(items)"
   ]
  },
  {
   "cell_type": "markdown",
   "metadata": {},
   "source": [
    "# collections.deque"
   ]
  },
  {
   "cell_type": "code",
   "execution_count": 72,
   "metadata": {},
   "outputs": [
    {
     "name": "stdout",
     "output_type": "stream",
     "text": [
      "deque([0, 1, 2])\n",
      "deque([0, 1, 2])\n",
      "1\n",
      "deque([0, 1, 2, 1, 2, 3])\n",
      "2\n",
      "deque([0, 1, 1, 2, 3])\n",
      "deque([2, 3, 0, 1, 1])\n"
     ]
    }
   ],
   "source": [
    "#创建双向队列\n",
    "import collections\n",
    "d=collections.deque()\n",
    "#右边添加\n",
    "d.append(1)\n",
    "d.append(2)\n",
    "#左边添加\n",
    "d.appendleft(0)\n",
    "print(d)\n",
    "#copy\n",
    "new_d=d.copy()\n",
    "print(new_d)\n",
    "#count返回指定元素的出现次数\n",
    "print(d.count(1))\n",
    "#extend(从队列右边扩展一个列表的元素) extendleft(从队列左边扩展一个列表元素)\n",
    "d.extend([1,2,3])\n",
    "print(d)\n",
    "#index查找某个元素的索引位置\n",
    "print(d.index(2))\n",
    "#insert在指定位置插入元素\n",
    "#pop获取最右边一个元素，并在队列删除 popleft获取最左边一个元素并在队列中删除\n",
    "#remove删除指定元素 只能删除最左边一个\n",
    "d.remove(2)\n",
    "print(d)\n",
    "#队列反转reverse\n",
    "#rotate把右边元素放到左边\n",
    "d.rotate(2)\n",
    "print(d)\n",
    "#清空\n",
    "d.clear()"
   ]
  },
  {
   "cell_type": "code",
   "execution_count": 60,
   "metadata": {},
   "outputs": [
    {
     "name": "stdout",
     "output_type": "stream",
     "text": [
      "1python\n",
      "--------------------\n",
      "1python\n",
      "2python\n",
      "--------------------\n",
      "1python\n",
      "2python\n",
      "3python\n",
      "--------------------\n",
      "1python\n",
      "2python\n",
      "3python\n",
      "4python\n",
      "--------------------\n",
      "1python\n",
      "2python\n",
      "3python\n",
      "4python\n",
      "5python\n",
      "--------------------\n",
      "1python\n",
      "2python\n",
      "3python\n",
      "4python\n",
      "5python\n",
      "6python\n",
      "--------------------\n",
      "2python\n",
      "3python\n",
      "4python\n",
      "5python\n",
      "6python\n",
      "7pythonp\n",
      "--------------------\n",
      "3python\n",
      "4python\n",
      "5python\n",
      "6python\n",
      "7pythonp\n",
      "8python--------------------\n"
     ]
    }
   ],
   "source": [
    "# 下面的代码在多行上面做简单的文本匹配，并只返回在前 N 行中匹配成功的行\n",
    "#yiedl 类似return 返回一个生成器\n",
    "from collections import deque\n",
    "def search(lines,pattern,history=5):\n",
    "    previous_lines=deque(maxlen=history)#构建一个固定大小的队列，新的元素加入并满时，最早的元素会自动被移除\n",
    "    for li in lines:\n",
    "        if pattern in li:\n",
    "            yield li,previous_lines\n",
    "        previous_lines.append(li)\n",
    "\n",
    "        \n",
    "#example use on a file\n",
    "if __name__=='__main__':\n",
    "    with open(r'somefile.txt') as f:\n",
    "        for line,prevlines in search(f,'python',5):\n",
    "            for pline in prevlines:\n",
    "                print(pline,end='')\n",
    "            print(line,end='')\n",
    "            print('-'*20)"
   ]
  },
  {
   "cell_type": "markdown",
   "metadata": {},
   "source": [
    "# 查找最大或最小N个元素"
   ]
  },
  {
   "cell_type": "markdown",
   "metadata": {},
   "source": [
    "如果你想在一个集合中查找最小或最大的 N 个元素，并且 N 小于集合元素数量，那么这些函数提供了很好的性能。因为在底层实现里面，首先会先将集合数据进行堆排序后放入一个列表中"
   ]
  },
  {
   "cell_type": "code",
   "execution_count": 82,
   "metadata": {},
   "outputs": [
    {
     "name": "stdout",
     "output_type": "stream",
     "text": [
      "[-4, 2, 1, 23, 7, 2, 18, 23, 42, 37, 8]\n"
     ]
    }
   ],
   "source": [
    "import heapq\n",
    "nums = [1, 8, 2, 23, 7, -4, 18, 23, 42, 37, 2]\n",
    "heapq.heapify(nums)#sort the list of nums\n",
    "print(nums)"
   ]
  },
  {
   "cell_type": "markdown",
   "metadata": {},
   "source": [
    "堆数据结构最重要的特征是 heap[0] 永远是最小的元素。并且剩余的元素可以很容易的通过调用heapq.heappop() 方法得到，该方法会先将第一个元素弹出来，然后用下一个最小的元素来取代被弹出元素 (这种操作时间复杂度仅仅是 O(log N)，N 是堆大小)。比如，如果想要查找最小的 3 个元素，你可以这样做："
   ]
  },
  {
   "cell_type": "code",
   "execution_count": 83,
   "metadata": {},
   "outputs": [
    {
     "data": {
      "text/plain": [
       "-4"
      ]
     },
     "execution_count": 83,
     "metadata": {},
     "output_type": "execute_result"
    }
   ],
   "source": [
    "heapq.heappop(nums)\n"
   ]
  },
  {
   "cell_type": "code",
   "execution_count": null,
   "metadata": {
    "collapsed": true
   },
   "outputs": [],
   "source": [
    "当要查找的元素个数相对比较小的时候，函数 nlargest() 和 nsmallest() 是很\n",
    "合适的。如果你仅仅想查找唯一的最小或最大 (N=1) 的元素的话，那么使用 min() 和\n",
    "max() 函数会更快些。类似的，如果 N 的大小和集合大小接近的时候，通常先排序这\n",
    "个集合然后再使用切片操作会更快点 ( sorted(items)[:N] 或者是 sorted(items)[-\n",
    "N:] )。需要在正确场合使用函数 nlargest() 和 nsmallest() 才能发挥它们的优势 (如果\n",
    "N 快接近集合大小了，那么使用排序操作会更好些)。"
   ]
  },
  {
   "cell_type": "code",
   "execution_count": 80,
   "metadata": {},
   "outputs": [
    {
     "name": "stdout",
     "output_type": "stream",
     "text": [
      "[42, 37, 23]\n",
      "[-4, 1, 2]\n"
     ]
    }
   ],
   "source": [
    "print(heapq.nlargest(3, nums)) # Prints [42, 37, 23]\n",
    "print(heapq.nsmallest(3, nums)) # Prints [-4, 1, 2]"
   ]
  },
  {
   "cell_type": "code",
   "execution_count": 75,
   "metadata": {
    "scrolled": true
   },
   "outputs": [
    {
     "name": "stdout",
     "output_type": "stream",
     "text": [
      "[{'name': 'YHOO', 'shares': 45, 'price': 16.35}, {'name': 'FB', 'shares': 200, 'price': 21.09}, {'name': 'HPQ', 'shares': 35, 'price': 31.75}]\n"
     ]
    }
   ],
   "source": [
    "portfolio = [\n",
    "{'name': 'IBM', 'shares': 100, 'price': 91.1},\n",
    "{'name': 'AAPL', 'shares': 50, 'price': 543.22},\n",
    "{'name': 'FB', 'shares': 200, 'price': 21.09},\n",
    "{'name': 'HPQ', 'shares': 35, 'price': 31.75},\n",
    "{'name': 'YHOO', 'shares': 45, 'price': 16.35},\n",
    "{'name': 'ACME', 'shares': 75, 'price': 115.65}\n",
    "]\n",
    "cheap = heapq.nsmallest(3, portfolio, key=lambda s: s['price'])\n",
    "expensive = heapq.nlargest(3, portfolio, key=lambda s: s['price'])\n",
    "print(cheap)"
   ]
  },
  {
   "cell_type": "markdown",
   "metadata": {},
   "source": [
    "# 实现优先级队列"
   ]
  },
  {
   "cell_type": "raw",
   "metadata": {},
   "source": [
    "怎样实现一个按优先级排序的队列？并且在这个队列上面每次 pop 操作总是返回\n",
    "优先级最高的那个元素。\n",
    "heapq.heappush()和heapq.heappop()分别在队列——queue上插入和删除第一个元素，并且队列——queue保证第一个元素有最小优先级。\n",
    "heapq.heappop()返回最小的元素。\n",
    "push和pop操作空间复杂度O（logN）所以即使N很大运行速度也很快。\n",
    "(-priority,self._index,item)表示优先级由高到低排序\n",
    "index变量的作用保证同等优先级元素的正确排序。通过保存一个不断增加的index下标，可以确保元素按他们插入的顺序排序，而且index变量也在同级别排序中起重要作用"
   ]
  },
  {
   "cell_type": "code",
   "execution_count": 109,
   "metadata": {
    "collapsed": true
   },
   "outputs": [],
   "source": [
    "import heapq\n",
    "\n",
    "class PriorityQueue:\n",
    "    def __init__(self):\n",
    "        self._queue=[]\n",
    "        self._index=0\n",
    "        \n",
    "    def push(self,item,priority):\n",
    "        heapq.heappush(self._queue,(-priority,self._index,item))\n",
    "        self._index+=1\n",
    "        \n",
    "    def pop(self):\n",
    "        return heapq.heappop(self._queue)[-1]\n"
   ]
  },
  {
   "cell_type": "code",
   "execution_count": 110,
   "metadata": {
    "collapsed": true
   },
   "outputs": [],
   "source": [
    "class Item:\n",
    "    def __init__(self,name):\n",
    "        self.name = name\n",
    "    def __repr__(self):\n",
    "        return 'Item({!r})'.format(self.name)"
   ]
  },
  {
   "cell_type": "code",
   "execution_count": 111,
   "metadata": {},
   "outputs": [
    {
     "name": "stdout",
     "output_type": "stream",
     "text": [
      "Item('bar')\n"
     ]
    }
   ],
   "source": [
    "q = PriorityQueue()\n",
    "q.push(Item('foo'),1)\n",
    "q.push(Item('bar'),5)\n",
    "q.push(Item('spam'),4)\n",
    "q.push(Item('grok'),1)\n",
    "print(q.pop())"
   ]
  },
  {
   "cell_type": "markdown",
   "metadata": {},
   "source": [
    "# 字典dict"
   ]
  },
  {
   "cell_type": "code",
   "execution_count": null,
   "metadata": {
    "collapsed": true
   },
   "outputs": [],
   "source": [
    "一个字典就是一个键对应一个单值的映射。如果你想要一个键映射多个值，那么你\n",
    "就需要将这多个值放到另外的容器中，比如列表或者集合里面。比如，你可以像下面\n",
    "这样构造这样的字典：\n",
    "选择使用列表还是集合取决于你的实际需求。如果你想保持元素的插入顺序就应该\n",
    "使用列表，如果想去掉重复元素就使用集合（并且不关心元素的顺序问题）。"
   ]
  },
  {
   "cell_type": "code",
   "execution_count": 113,
   "metadata": {},
   "outputs": [
    {
     "name": "stdout",
     "output_type": "stream",
     "text": [
      "{'a': {1, 2, 3}, 'b': {4, 5}}\n"
     ]
    }
   ],
   "source": [
    "#list\n",
    "d = {\n",
    "'a' : [1, 2, 3],\n",
    "'b' : [4, 5]\n",
    "}\n",
    "#set\n",
    "e = {\n",
    "'a' : {1, 2, 3},\n",
    "'b' : {4, 5}\n",
    "}\n",
    "print (e)"
   ]
  },
  {
   "cell_type": "markdown",
   "metadata": {},
   "source": [
    "你可以很方便的使用 collections 模块中的 defaultdict 来构造这样的字典。\n",
    "defaultdict 的一个特征是它会自动初始化每个 key 刚开始对应的值，所以你只需要\n",
    "关注添加元素操作了。比如："
   ]
  },
  {
   "cell_type": "code",
   "execution_count": 115,
   "metadata": {},
   "outputs": [
    {
     "name": "stdout",
     "output_type": "stream",
     "text": [
      "defaultdict(<class 'list'>, {'a': [1, 1, 1]})\n",
      "defaultdict(<class 'set'>, {'a': {1}})\n"
     ]
    }
   ],
   "source": [
    "from collections import defaultdict\n",
    "\n",
    "d=defaultdict(list)\n",
    "d['a'].append(1)\n",
    "d['a'].append(1)\n",
    "d['a'].append(1)\n",
    "print(d)\n",
    "e=defaultdict(set)\n",
    "e['a'].add(1)\n",
    "e['a'].add(1)\n",
    "e['a'].add(1)\n",
    "print(e)"
   ]
  },
  {
   "cell_type": "markdown",
   "metadata": {},
   "source": [
    "需要注意的是， defaultdict 会自动为将要访问的键 (就算目前字典中并不存在这\n",
    "样的键) 创建映射实体。如果你并不需要这样的特性，你可以在一个普通的字典上使用\n",
    "setdefault() 方法来代替。比如："
   ]
  },
  {
   "cell_type": "code",
   "execution_count": 117,
   "metadata": {},
   "outputs": [
    {
     "name": "stdout",
     "output_type": "stream",
     "text": [
      "{'a': [1, 2], 'b': [4]}\n"
     ]
    }
   ],
   "source": [
    "d = {} # A regular dictionary\n",
    "d.setdefault('a', []).append(1)\n",
    "d.setdefault('a', []).append(2)\n",
    "d.setdefault('b', []).append(4)\n",
    "print(d)"
   ]
  },
  {
   "cell_type": "raw",
   "metadata": {},
   "source": [
    "使用collections中的OrderedDict类对字典进行排序,但是他内部维护另一个链表，所以会消耗额外内存"
   ]
  },
  {
   "cell_type": "code",
   "execution_count": 125,
   "metadata": {},
   "outputs": [
    {
     "name": "stdout",
     "output_type": "stream",
     "text": [
      "a 1\n",
      "b 2\n",
      "c 0\n"
     ]
    }
   ],
   "source": [
    "from collections import OrderedDict\n",
    "def ordered_dict():\n",
    "    d=OrderedDict()\n",
    "    d['a']=1\n",
    "    d['b']=2\n",
    "    d['c']=0\n",
    "    for key in d:\n",
    "        print(key,d[key])\n",
    "ordered_dict()\n"
   ]
  },
  {
   "cell_type": "code",
   "execution_count": 124,
   "metadata": {
    "scrolled": true
   },
   "outputs": [
    {
     "data": {
      "text/plain": [
       "'{\"a\": [1, 2], \"b\": [4]}'"
      ]
     },
     "execution_count": 124,
     "metadata": {},
     "output_type": "execute_result"
    }
   ],
   "source": [
    "import json\n",
    "json.dumps(d)"
   ]
  },
  {
   "cell_type": "code",
   "execution_count": null,
   "metadata": {
    "collapsed": true
   },
   "outputs": [],
   "source": [
    "prices={'ACME': 45.23,\n",
    "'AAPL': 612.78,\n",
    "'IBM': 205.55,\n",
    "'HPQ': 37.20,\n",
    "'FB': 10.75}"
   ]
  },
  {
   "cell_type": "raw",
   "metadata": {},
   "source": [
    "字典运算,在一个字典上执行普通的数学运算，你会发现它们仅仅作用于键，而不是值。"
   ]
  },
  {
   "cell_type": "code",
   "execution_count": 130,
   "metadata": {},
   "outputs": [
    {
     "name": "stdout",
     "output_type": "stream",
     "text": [
      "AAPL\n"
     ]
    }
   ],
   "source": [
    "print(min(prices))#这样仅仅是key的排序"
   ]
  },
  {
   "cell_type": "code",
   "execution_count": 131,
   "metadata": {},
   "outputs": [
    {
     "name": "stdout",
     "output_type": "stream",
     "text": [
      "10.75\n"
     ]
    }
   ],
   "source": [
    "print(min(prices.values()))#仅仅输出值"
   ]
  },
  {
   "cell_type": "code",
   "execution_count": 135,
   "metadata": {},
   "outputs": [
    {
     "name": "stdout",
     "output_type": "stream",
     "text": [
      "FB 10.75\n"
     ]
    }
   ],
   "source": [
    "min_key=min(prices,key=lambda k:prices[k])\n",
    "print(min_key,prices[min_key])"
   ]
  },
  {
   "cell_type": "markdown",
   "metadata": {},
   "source": [
    "zip函数可以很好解决"
   ]
  },
  {
   "cell_type": "code",
   "execution_count": 126,
   "metadata": {},
   "outputs": [
    {
     "name": "stdout",
     "output_type": "stream",
     "text": [
      "(10.75, 'FB')\n"
     ]
    }
   ],
   "source": [
    "#zip\n",
    "\n",
    "min_price=min(zip(prices.values(),prices.keys()))\n",
    "max_price=max(zip(prices.values(),prices.keys()))\n",
    "print(min_price)"
   ]
  },
  {
   "cell_type": "code",
   "execution_count": 128,
   "metadata": {},
   "outputs": [
    {
     "name": "stdout",
     "output_type": "stream",
     "text": [
      "[(10.75, 'FB'), (37.2, 'HPQ'), (45.23, 'ACME'), (205.55, 'IBM'), (612.78, 'AAPL')]\n"
     ]
    }
   ],
   "source": [
    "prices_sorted=sorted(zip(prices.values(),prices.keys()))\n",
    "print(prices_sorted)"
   ]
  },
  {
   "cell_type": "code",
   "execution_count": 129,
   "metadata": {},
   "outputs": [
    {
     "name": "stdout",
     "output_type": "stream",
     "text": [
      "(10.75, 'FB')\n"
     ]
    },
    {
     "ename": "ValueError",
     "evalue": "max() arg is an empty sequence",
     "output_type": "error",
     "traceback": [
      "\u001b[1;31m---------------------------------------------------------------------------\u001b[0m",
      "\u001b[1;31mValueError\u001b[0m                                Traceback (most recent call last)",
      "\u001b[1;32m<ipython-input-129-bbedaa8285ea>\u001b[0m in \u001b[0;36m<module>\u001b[1;34m()\u001b[0m\n\u001b[0;32m      1\u001b[0m \u001b[0mprices_and_names\u001b[0m \u001b[1;33m=\u001b[0m \u001b[0mzip\u001b[0m\u001b[1;33m(\u001b[0m\u001b[0mprices\u001b[0m\u001b[1;33m.\u001b[0m\u001b[0mvalues\u001b[0m\u001b[1;33m(\u001b[0m\u001b[1;33m)\u001b[0m\u001b[1;33m,\u001b[0m \u001b[0mprices\u001b[0m\u001b[1;33m.\u001b[0m\u001b[0mkeys\u001b[0m\u001b[1;33m(\u001b[0m\u001b[1;33m)\u001b[0m\u001b[1;33m)\u001b[0m\u001b[1;33m\u001b[0m\u001b[0m\n\u001b[0;32m      2\u001b[0m \u001b[0mprint\u001b[0m\u001b[1;33m(\u001b[0m\u001b[0mmin\u001b[0m\u001b[1;33m(\u001b[0m\u001b[0mprices_and_names\u001b[0m\u001b[1;33m)\u001b[0m\u001b[1;33m)\u001b[0m \u001b[1;31m# OK\u001b[0m\u001b[1;33m\u001b[0m\u001b[0m\n\u001b[1;32m----> 3\u001b[1;33m \u001b[0mprint\u001b[0m\u001b[1;33m(\u001b[0m\u001b[0mmax\u001b[0m\u001b[1;33m(\u001b[0m\u001b[0mprices_and_names\u001b[0m\u001b[1;33m)\u001b[0m\u001b[1;33m)\u001b[0m \u001b[1;31m# ValueError: max() arg is an empty sequence\u001b[0m\u001b[1;33m\u001b[0m\u001b[0m\n\u001b[0m",
      "\u001b[1;31mValueError\u001b[0m: max() arg is an empty sequence"
     ]
    }
   ],
   "source": [
    "prices_and_names = zip(prices.values(), prices.keys())\n",
    "print(min(prices_and_names)) # OK\n",
    "print(max(prices_and_names)) # ValueError: max() arg is an empty sequence"
   ]
  },
  {
   "cell_type": "raw",
   "metadata": {},
   "source": [
    "查找字典中相同点（相同的键和相同的值）"
   ]
  },
  {
   "cell_type": "code",
   "execution_count": 164,
   "metadata": {},
   "outputs": [],
   "source": [
    "aa= {\n",
    "'x' : 1,\n",
    "'y' : 2,\n",
    "'z' : 3\n",
    "}\n",
    "bb= {\n",
    "'w' : 10,\n",
    "'x' : 11,\n",
    "'y' : 2\n",
    "}\n"
   ]
  },
  {
   "cell_type": "code",
   "execution_count": 165,
   "metadata": {},
   "outputs": [
    {
     "name": "stdout",
     "output_type": "stream",
     "text": [
      "{'x', 'y'}\n",
      "{'z'}\n"
     ]
    },
    {
     "data": {
      "text/plain": [
       "{('y', 2)}"
      ]
     },
     "execution_count": 165,
     "metadata": {},
     "output_type": "execute_result"
    }
   ],
   "source": [
    "#在两字典的 keys() 或者 items() 方法返回结果上执行集合操作。\n",
    "print(aa.keys()&bb.keys())\n",
    "print(aa.keys()-bb.keys())\n",
    "aa.items()&bb.items()\n"
   ]
  },
  {
   "cell_type": "raw",
   "metadata": {},
   "source": [
    "这些操作也可以用于修改或者过滤字典元素。比如，假如你想以现有字典构造一个\n",
    "排除几个指定键的新字典。下面利用字典推导来实现这样的需求"
   ]
  },
  {
   "cell_type": "code",
   "execution_count": 166,
   "metadata": {},
   "outputs": [
    {
     "name": "stdout",
     "output_type": "stream",
     "text": [
      "{'x': 1, 'y': 2}\n"
     ]
    }
   ],
   "source": [
    "# Make a new dictionary with certain keys removed\n",
    "c = {key:aa[key] for key in aa.keys() - {'z', 'w'}}\n",
    "print(c)"
   ]
  },
  {
   "cell_type": "raw",
   "metadata": {},
   "source": [
    "删除相同元素并保持顺序"
   ]
  },
  {
   "cell_type": "code",
   "execution_count": 167,
   "metadata": {},
   "outputs": [
    {
     "name": "stdout",
     "output_type": "stream",
     "text": [
      "[1, 3, 4, 5, 63, 2, 6, 23]\n"
     ]
    }
   ],
   "source": [
    "def dedupe(items):\n",
    "    seen=set()\n",
    "    for item in items:\n",
    "        if item not in seen:\n",
    "            yield item\n",
    "            seen.add(item)\n",
    "a=[1,3,4,5,63,2,3,4,6,23]\n",
    "print(list(dedupe(a)))"
   ]
  },
  {
   "cell_type": "code",
   "execution_count": 168,
   "metadata": {
    "collapsed": true
   },
   "outputs": [],
   "source": [
    "def dedupeok(items,key=None):\n",
    "    seen=set()\n",
    "    for item in items:\n",
    "        val=item if key is None else key(item)\n",
    "        if val not in seen:\n",
    "            yield item\n",
    "            seen.add(val)"
   ]
  },
  {
   "cell_type": "code",
   "execution_count": 169,
   "metadata": {},
   "outputs": [
    {
     "name": "stdout",
     "output_type": "stream",
     "text": [
      "[{'x': 1, 'y': 2}, {'x': 1, 'y': 3}, {'x': 2, 'y': 4}]\n"
     ]
    }
   ],
   "source": [
    "a = [ {'x':1, 'y':2}, {'x':1, 'y':3}, {'x':1, 'y':2}, {'x':2, 'y':4}]\n",
    "print(list(dedupeok(a,key=lambda d:(d['x'],d['y']))))\n",
    "    "
   ]
  },
  {
   "cell_type": "code",
   "execution_count": null,
   "metadata": {
    "collapsed": true
   },
   "outputs": [],
   "source": []
  },
  {
   "cell_type": "code",
   "execution_count": null,
   "metadata": {
    "collapsed": true
   },
   "outputs": [],
   "source": []
  }
 ],
 "metadata": {
  "kernelspec": {
   "display_name": "Python 3",
   "language": "python",
   "name": "python3"
  },
  "language_info": {
   "codemirror_mode": {
    "name": "ipython",
    "version": 3
   },
   "file_extension": ".py",
   "mimetype": "text/x-python",
   "name": "python",
   "nbconvert_exporter": "python",
   "pygments_lexer": "ipython3",
   "version": "3.6.3"
  }
 },
 "nbformat": 4,
 "nbformat_minor": 2
}
